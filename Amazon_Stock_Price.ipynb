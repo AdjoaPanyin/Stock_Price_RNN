{
 "cells": [
  {
   "cell_type": "code",
   "execution_count": 1,
   "id": "99521d68-59a3-4324-8f9c-e4c497682056",
   "metadata": {},
   "outputs": [],
   "source": [
    "import numpy as np\n",
    "from tensorflow.keras.regularizers import l2\n",
    "import pandas as pd\n",
    "from sklearn.preprocessing import MinMaxScaler\n",
    "from tensorflow.keras.layers import SimpleRNN, Dense, LSTM, Dropout, GRU\n",
    "from tensorflow.keras.models import Sequential, load_model\n",
    "from tensorflow.keras.layers import LSTM, Dense\n",
    "from tensorflow.keras.callbacks import ModelCheckpoint, EarlyStopping\n",
    "from tensorflow.keras import backend as K\n",
    "from tensorflow.keras.optimizers import Adam\n",
    "from tensorflow.keras.metrics import MeanSquaredError, RootMeanSquaredError\n",
    "from tensorflow.keras.losses import MeanSquaredError\n",
    "import matplotlib.pyplot as plt\n",
    "import tensorflow as tf\n",
    "import warnings\n",
    "\n",
    "warnings.simplefilter(\"ignore\", category=Warning)"
   ]
  },
  {
   "cell_type": "code",
   "execution_count": 2,
   "id": "5d08cf03-f67e-4be5-a5fc-d08f6c4565f2",
   "metadata": {},
   "outputs": [],
   "source": [
    "# Set the global seed\n",
    "tf.random.set_seed(42)"
   ]
  },
  {
   "cell_type": "code",
   "execution_count": 3,
   "id": "4d757673-4134-4abd-8bc4-437112284113",
   "metadata": {},
   "outputs": [],
   "source": [
    "data=pd.read_csv(\"Amazon_Stock_Price.csv\")"
   ]
  },
  {
   "cell_type": "code",
   "execution_count": 4,
   "id": "3766ce08-2781-4595-b4f6-1df0e288e4e2",
   "metadata": {},
   "outputs": [
    {
     "data": {
      "text/html": [
       "<div>\n",
       "<style scoped>\n",
       "    .dataframe tbody tr th:only-of-type {\n",
       "        vertical-align: middle;\n",
       "    }\n",
       "\n",
       "    .dataframe tbody tr th {\n",
       "        vertical-align: top;\n",
       "    }\n",
       "\n",
       "    .dataframe thead th {\n",
       "        text-align: right;\n",
       "    }\n",
       "</style>\n",
       "<table border=\"1\" class=\"dataframe\">\n",
       "  <thead>\n",
       "    <tr style=\"text-align: right;\">\n",
       "      <th></th>\n",
       "      <th>Unnamed: 0</th>\n",
       "      <th>Date</th>\n",
       "      <th>Open</th>\n",
       "      <th>High</th>\n",
       "      <th>Low</th>\n",
       "      <th>Close</th>\n",
       "      <th>Volume</th>\n",
       "    </tr>\n",
       "  </thead>\n",
       "  <tbody>\n",
       "    <tr>\n",
       "      <th>0</th>\n",
       "      <td>0</td>\n",
       "      <td>2000-01-03</td>\n",
       "      <td>4.075000</td>\n",
       "      <td>4.478125</td>\n",
       "      <td>3.952344</td>\n",
       "      <td>4.468750</td>\n",
       "      <td>322352000</td>\n",
       "    </tr>\n",
       "    <tr>\n",
       "      <th>1</th>\n",
       "      <td>1</td>\n",
       "      <td>2000-01-04</td>\n",
       "      <td>4.268750</td>\n",
       "      <td>4.575000</td>\n",
       "      <td>4.087500</td>\n",
       "      <td>4.096875</td>\n",
       "      <td>349748000</td>\n",
       "    </tr>\n",
       "    <tr>\n",
       "      <th>2</th>\n",
       "      <td>2</td>\n",
       "      <td>2000-01-05</td>\n",
       "      <td>3.525000</td>\n",
       "      <td>3.756250</td>\n",
       "      <td>3.400000</td>\n",
       "      <td>3.487500</td>\n",
       "      <td>769148000</td>\n",
       "    </tr>\n",
       "    <tr>\n",
       "      <th>3</th>\n",
       "      <td>3</td>\n",
       "      <td>2000-01-06</td>\n",
       "      <td>3.565625</td>\n",
       "      <td>3.634375</td>\n",
       "      <td>3.200000</td>\n",
       "      <td>3.278125</td>\n",
       "      <td>375040000</td>\n",
       "    </tr>\n",
       "    <tr>\n",
       "      <th>4</th>\n",
       "      <td>4</td>\n",
       "      <td>2000-01-07</td>\n",
       "      <td>3.350000</td>\n",
       "      <td>3.525000</td>\n",
       "      <td>3.309375</td>\n",
       "      <td>3.478125</td>\n",
       "      <td>210108000</td>\n",
       "    </tr>\n",
       "  </tbody>\n",
       "</table>\n",
       "</div>"
      ],
      "text/plain": [
       "   Unnamed: 0        Date      Open      High       Low     Close     Volume\n",
       "0           0  2000-01-03  4.075000  4.478125  3.952344  4.468750  322352000\n",
       "1           1  2000-01-04  4.268750  4.575000  4.087500  4.096875  349748000\n",
       "2           2  2000-01-05  3.525000  3.756250  3.400000  3.487500  769148000\n",
       "3           3  2000-01-06  3.565625  3.634375  3.200000  3.278125  375040000\n",
       "4           4  2000-01-07  3.350000  3.525000  3.309375  3.478125  210108000"
      ]
     },
     "execution_count": 4,
     "metadata": {},
     "output_type": "execute_result"
    }
   ],
   "source": [
    "data.head()"
   ]
  },
  {
   "cell_type": "code",
   "execution_count": 5,
   "id": "a00ad035-62f7-407e-8768-7729e32a26e3",
   "metadata": {},
   "outputs": [
    {
     "name": "stdout",
     "output_type": "stream",
     "text": [
      "<class 'pandas.core.frame.DataFrame'>\n",
      "RangeIndex: 6050 entries, 0 to 6049\n",
      "Data columns (total 7 columns):\n",
      " #   Column      Non-Null Count  Dtype  \n",
      "---  ------      --------------  -----  \n",
      " 0   Unnamed: 0  6050 non-null   int64  \n",
      " 1   Date        6050 non-null   object \n",
      " 2   Open        6050 non-null   float64\n",
      " 3   High        6050 non-null   float64\n",
      " 4   Low         6050 non-null   float64\n",
      " 5   Close       6050 non-null   float64\n",
      " 6   Volume      6050 non-null   int64  \n",
      "dtypes: float64(4), int64(2), object(1)\n",
      "memory usage: 331.0+ KB\n"
     ]
    }
   ],
   "source": [
    "data.info()"
   ]
  },
  {
   "cell_type": "code",
   "execution_count": 6,
   "id": "53691470-0ffa-4786-8f7d-28a78c5d5ef0",
   "metadata": {},
   "outputs": [],
   "source": [
    "data = data.drop(columns=['Unnamed: 0'])"
   ]
  },
  {
   "cell_type": "code",
   "execution_count": 7,
   "id": "1dd3e726-ef02-45d1-95f2-1bdfde45fd98",
   "metadata": {},
   "outputs": [
    {
     "name": "stdout",
     "output_type": "stream",
     "text": [
      "<class 'pandas.core.frame.DataFrame'>\n",
      "RangeIndex: 6050 entries, 0 to 6049\n",
      "Data columns (total 6 columns):\n",
      " #   Column  Non-Null Count  Dtype  \n",
      "---  ------  --------------  -----  \n",
      " 0   Date    6050 non-null   object \n",
      " 1   Open    6050 non-null   float64\n",
      " 2   High    6050 non-null   float64\n",
      " 3   Low     6050 non-null   float64\n",
      " 4   Close   6050 non-null   float64\n",
      " 5   Volume  6050 non-null   int64  \n",
      "dtypes: float64(4), int64(1), object(1)\n",
      "memory usage: 283.7+ KB\n"
     ]
    }
   ],
   "source": [
    "data.info()"
   ]
  },
  {
   "cell_type": "code",
   "execution_count": 8,
   "id": "2dde67c6-6d59-467b-a87f-fe25aaa929c0",
   "metadata": {},
   "outputs": [
    {
     "data": {
      "text/html": [
       "<div>\n",
       "<style scoped>\n",
       "    .dataframe tbody tr th:only-of-type {\n",
       "        vertical-align: middle;\n",
       "    }\n",
       "\n",
       "    .dataframe tbody tr th {\n",
       "        vertical-align: top;\n",
       "    }\n",
       "\n",
       "    .dataframe thead th {\n",
       "        text-align: right;\n",
       "    }\n",
       "</style>\n",
       "<table border=\"1\" class=\"dataframe\">\n",
       "  <thead>\n",
       "    <tr style=\"text-align: right;\">\n",
       "      <th></th>\n",
       "      <th>Date</th>\n",
       "      <th>Open</th>\n",
       "      <th>High</th>\n",
       "      <th>Low</th>\n",
       "      <th>Close</th>\n",
       "      <th>Volume</th>\n",
       "    </tr>\n",
       "  </thead>\n",
       "  <tbody>\n",
       "    <tr>\n",
       "      <th>6045</th>\n",
       "      <td>2024-01-12</td>\n",
       "      <td>155.389999</td>\n",
       "      <td>156.199997</td>\n",
       "      <td>154.009995</td>\n",
       "      <td>154.619995</td>\n",
       "      <td>40460300</td>\n",
       "    </tr>\n",
       "    <tr>\n",
       "      <th>6046</th>\n",
       "      <td>2024-01-16</td>\n",
       "      <td>153.529999</td>\n",
       "      <td>154.990005</td>\n",
       "      <td>152.149994</td>\n",
       "      <td>153.160004</td>\n",
       "      <td>41384600</td>\n",
       "    </tr>\n",
       "    <tr>\n",
       "      <th>6047</th>\n",
       "      <td>2024-01-17</td>\n",
       "      <td>151.490005</td>\n",
       "      <td>152.149994</td>\n",
       "      <td>149.910004</td>\n",
       "      <td>151.710007</td>\n",
       "      <td>34953400</td>\n",
       "    </tr>\n",
       "    <tr>\n",
       "      <th>6048</th>\n",
       "      <td>2024-01-18</td>\n",
       "      <td>152.770004</td>\n",
       "      <td>153.779999</td>\n",
       "      <td>151.820007</td>\n",
       "      <td>153.500000</td>\n",
       "      <td>37850200</td>\n",
       "    </tr>\n",
       "    <tr>\n",
       "      <th>6049</th>\n",
       "      <td>2024-01-19</td>\n",
       "      <td>153.830002</td>\n",
       "      <td>155.759995</td>\n",
       "      <td>152.740005</td>\n",
       "      <td>155.339996</td>\n",
       "      <td>51033700</td>\n",
       "    </tr>\n",
       "  </tbody>\n",
       "</table>\n",
       "</div>"
      ],
      "text/plain": [
       "            Date        Open        High         Low       Close    Volume\n",
       "6045  2024-01-12  155.389999  156.199997  154.009995  154.619995  40460300\n",
       "6046  2024-01-16  153.529999  154.990005  152.149994  153.160004  41384600\n",
       "6047  2024-01-17  151.490005  152.149994  149.910004  151.710007  34953400\n",
       "6048  2024-01-18  152.770004  153.779999  151.820007  153.500000  37850200\n",
       "6049  2024-01-19  153.830002  155.759995  152.740005  155.339996  51033700"
      ]
     },
     "execution_count": 8,
     "metadata": {},
     "output_type": "execute_result"
    }
   ],
   "source": [
    "data.tail()"
   ]
  },
  {
   "cell_type": "code",
   "execution_count": 9,
   "id": "5ace5a00-18ae-4349-af07-ea4c23362d74",
   "metadata": {},
   "outputs": [],
   "source": [
    "#Sorting the DataFrame by date and setting the 'Date' column as the index is a crucial step when working with time series data.\n",
    "data['Date']=pd.to_datetime(data['Date'])\n",
    "data.sort_values(by='Date', inplace=True)\n",
    "data.set_index('Date', inplace =True)"
   ]
  },
  {
   "cell_type": "code",
   "execution_count": 10,
   "id": "d7b9b183-e215-4a35-99b7-45d1814da55a",
   "metadata": {},
   "outputs": [
    {
     "data": {
      "text/html": [
       "<div>\n",
       "<style scoped>\n",
       "    .dataframe tbody tr th:only-of-type {\n",
       "        vertical-align: middle;\n",
       "    }\n",
       "\n",
       "    .dataframe tbody tr th {\n",
       "        vertical-align: top;\n",
       "    }\n",
       "\n",
       "    .dataframe thead th {\n",
       "        text-align: right;\n",
       "    }\n",
       "</style>\n",
       "<table border=\"1\" class=\"dataframe\">\n",
       "  <thead>\n",
       "    <tr style=\"text-align: right;\">\n",
       "      <th></th>\n",
       "      <th>Open</th>\n",
       "      <th>High</th>\n",
       "      <th>Low</th>\n",
       "      <th>Close</th>\n",
       "      <th>Volume</th>\n",
       "    </tr>\n",
       "    <tr>\n",
       "      <th>Date</th>\n",
       "      <th></th>\n",
       "      <th></th>\n",
       "      <th></th>\n",
       "      <th></th>\n",
       "      <th></th>\n",
       "    </tr>\n",
       "  </thead>\n",
       "  <tbody>\n",
       "    <tr>\n",
       "      <th>2000-01-03</th>\n",
       "      <td>4.075000</td>\n",
       "      <td>4.478125</td>\n",
       "      <td>3.952344</td>\n",
       "      <td>4.468750</td>\n",
       "      <td>322352000</td>\n",
       "    </tr>\n",
       "    <tr>\n",
       "      <th>2000-01-04</th>\n",
       "      <td>4.268750</td>\n",
       "      <td>4.575000</td>\n",
       "      <td>4.087500</td>\n",
       "      <td>4.096875</td>\n",
       "      <td>349748000</td>\n",
       "    </tr>\n",
       "    <tr>\n",
       "      <th>2000-01-05</th>\n",
       "      <td>3.525000</td>\n",
       "      <td>3.756250</td>\n",
       "      <td>3.400000</td>\n",
       "      <td>3.487500</td>\n",
       "      <td>769148000</td>\n",
       "    </tr>\n",
       "    <tr>\n",
       "      <th>2000-01-06</th>\n",
       "      <td>3.565625</td>\n",
       "      <td>3.634375</td>\n",
       "      <td>3.200000</td>\n",
       "      <td>3.278125</td>\n",
       "      <td>375040000</td>\n",
       "    </tr>\n",
       "    <tr>\n",
       "      <th>2000-01-07</th>\n",
       "      <td>3.350000</td>\n",
       "      <td>3.525000</td>\n",
       "      <td>3.309375</td>\n",
       "      <td>3.478125</td>\n",
       "      <td>210108000</td>\n",
       "    </tr>\n",
       "  </tbody>\n",
       "</table>\n",
       "</div>"
      ],
      "text/plain": [
       "                Open      High       Low     Close     Volume\n",
       "Date                                                         \n",
       "2000-01-03  4.075000  4.478125  3.952344  4.468750  322352000\n",
       "2000-01-04  4.268750  4.575000  4.087500  4.096875  349748000\n",
       "2000-01-05  3.525000  3.756250  3.400000  3.487500  769148000\n",
       "2000-01-06  3.565625  3.634375  3.200000  3.278125  375040000\n",
       "2000-01-07  3.350000  3.525000  3.309375  3.478125  210108000"
      ]
     },
     "execution_count": 10,
     "metadata": {},
     "output_type": "execute_result"
    }
   ],
   "source": [
    "data.head()"
   ]
  },
  {
   "cell_type": "code",
   "execution_count": 11,
   "id": "23dd3974-326d-46f0-a1f7-4e5fa3ee456f",
   "metadata": {},
   "outputs": [],
   "source": [
    "# Feature engineering\n",
    "data['Year'] = data.index.year\n",
    "data['Month'] = data.index.month\n",
    "data['Day'] = data.index.day"
   ]
  },
  {
   "cell_type": "code",
   "execution_count": 12,
   "id": "505995b6-2330-45aa-b33b-14b8e345d036",
   "metadata": {},
   "outputs": [
    {
     "data": {
      "text/html": [
       "<div>\n",
       "<style scoped>\n",
       "    .dataframe tbody tr th:only-of-type {\n",
       "        vertical-align: middle;\n",
       "    }\n",
       "\n",
       "    .dataframe tbody tr th {\n",
       "        vertical-align: top;\n",
       "    }\n",
       "\n",
       "    .dataframe thead th {\n",
       "        text-align: right;\n",
       "    }\n",
       "</style>\n",
       "<table border=\"1\" class=\"dataframe\">\n",
       "  <thead>\n",
       "    <tr style=\"text-align: right;\">\n",
       "      <th></th>\n",
       "      <th>Open</th>\n",
       "      <th>High</th>\n",
       "      <th>Low</th>\n",
       "      <th>Close</th>\n",
       "      <th>Volume</th>\n",
       "      <th>Year</th>\n",
       "      <th>Month</th>\n",
       "      <th>Day</th>\n",
       "    </tr>\n",
       "    <tr>\n",
       "      <th>Date</th>\n",
       "      <th></th>\n",
       "      <th></th>\n",
       "      <th></th>\n",
       "      <th></th>\n",
       "      <th></th>\n",
       "      <th></th>\n",
       "      <th></th>\n",
       "      <th></th>\n",
       "    </tr>\n",
       "  </thead>\n",
       "  <tbody>\n",
       "    <tr>\n",
       "      <th>2000-01-03</th>\n",
       "      <td>4.075000</td>\n",
       "      <td>4.478125</td>\n",
       "      <td>3.952344</td>\n",
       "      <td>4.468750</td>\n",
       "      <td>322352000</td>\n",
       "      <td>2000</td>\n",
       "      <td>1</td>\n",
       "      <td>3</td>\n",
       "    </tr>\n",
       "    <tr>\n",
       "      <th>2000-01-04</th>\n",
       "      <td>4.268750</td>\n",
       "      <td>4.575000</td>\n",
       "      <td>4.087500</td>\n",
       "      <td>4.096875</td>\n",
       "      <td>349748000</td>\n",
       "      <td>2000</td>\n",
       "      <td>1</td>\n",
       "      <td>4</td>\n",
       "    </tr>\n",
       "    <tr>\n",
       "      <th>2000-01-05</th>\n",
       "      <td>3.525000</td>\n",
       "      <td>3.756250</td>\n",
       "      <td>3.400000</td>\n",
       "      <td>3.487500</td>\n",
       "      <td>769148000</td>\n",
       "      <td>2000</td>\n",
       "      <td>1</td>\n",
       "      <td>5</td>\n",
       "    </tr>\n",
       "    <tr>\n",
       "      <th>2000-01-06</th>\n",
       "      <td>3.565625</td>\n",
       "      <td>3.634375</td>\n",
       "      <td>3.200000</td>\n",
       "      <td>3.278125</td>\n",
       "      <td>375040000</td>\n",
       "      <td>2000</td>\n",
       "      <td>1</td>\n",
       "      <td>6</td>\n",
       "    </tr>\n",
       "    <tr>\n",
       "      <th>2000-01-07</th>\n",
       "      <td>3.350000</td>\n",
       "      <td>3.525000</td>\n",
       "      <td>3.309375</td>\n",
       "      <td>3.478125</td>\n",
       "      <td>210108000</td>\n",
       "      <td>2000</td>\n",
       "      <td>1</td>\n",
       "      <td>7</td>\n",
       "    </tr>\n",
       "  </tbody>\n",
       "</table>\n",
       "</div>"
      ],
      "text/plain": [
       "                Open      High       Low     Close     Volume  Year  Month  \\\n",
       "Date                                                                         \n",
       "2000-01-03  4.075000  4.478125  3.952344  4.468750  322352000  2000      1   \n",
       "2000-01-04  4.268750  4.575000  4.087500  4.096875  349748000  2000      1   \n",
       "2000-01-05  3.525000  3.756250  3.400000  3.487500  769148000  2000      1   \n",
       "2000-01-06  3.565625  3.634375  3.200000  3.278125  375040000  2000      1   \n",
       "2000-01-07  3.350000  3.525000  3.309375  3.478125  210108000  2000      1   \n",
       "\n",
       "            Day  \n",
       "Date             \n",
       "2000-01-03    3  \n",
       "2000-01-04    4  \n",
       "2000-01-05    5  \n",
       "2000-01-06    6  \n",
       "2000-01-07    7  "
      ]
     },
     "execution_count": 12,
     "metadata": {},
     "output_type": "execute_result"
    }
   ],
   "source": [
    "data.head()"
   ]
  },
  {
   "cell_type": "code",
   "execution_count": 13,
   "id": "46e83019-8d0e-4264-a70b-f9178aa73d97",
   "metadata": {},
   "outputs": [],
   "source": [
    "#Adding the season as a feature based on the month is another excellent way to enhance the model's understanding of the data. \n",
    "data['Season']=data['Month'].apply(lambda month: 1 if month in [12,1,2] else 2 if month in [3,4,5] else 3 if month in [6,7,8] else 4)\n",
    "\n",
    "#The season column created are defined as follows:\n",
    "#Season 1: December, January, February (Winter)\n",
    "#Season 2: March, April, May (Spring)\n",
    "#Season 3: June, July, August (Summer)\n",
    "#Season 4: September, October, November (Fall)"
   ]
  },
  {
   "cell_type": "code",
   "execution_count": 14,
   "id": "c5dc7c43-75c6-48e7-af41-8a07b2879cae",
   "metadata": {},
   "outputs": [],
   "source": [
    "# Correlation analysis to select top features\n",
    "corr_matrix = data.corr().abs()\n",
    "target = 'Close'\n",
    "normalized_corr = (corr_matrix[target] - corr_matrix[target].min()) / (corr_matrix[target].max() - corr_matrix[target].min())"
   ]
  },
  {
   "cell_type": "code",
   "execution_count": 15,
   "id": "fd8e43f7-4afe-44be-82c3-431c1e7a7dff",
   "metadata": {},
   "outputs": [
    {
     "data": {
      "text/html": [
       "<div>\n",
       "<style scoped>\n",
       "    .dataframe tbody tr th:only-of-type {\n",
       "        vertical-align: middle;\n",
       "    }\n",
       "\n",
       "    .dataframe tbody tr th {\n",
       "        vertical-align: top;\n",
       "    }\n",
       "\n",
       "    .dataframe thead th {\n",
       "        text-align: right;\n",
       "    }\n",
       "</style>\n",
       "<table border=\"1\" class=\"dataframe\">\n",
       "  <thead>\n",
       "    <tr style=\"text-align: right;\">\n",
       "      <th></th>\n",
       "      <th>Open</th>\n",
       "      <th>High</th>\n",
       "      <th>Low</th>\n",
       "      <th>Close</th>\n",
       "      <th>Volume</th>\n",
       "      <th>Year</th>\n",
       "      <th>Month</th>\n",
       "      <th>Day</th>\n",
       "      <th>Season</th>\n",
       "    </tr>\n",
       "    <tr>\n",
       "      <th>Date</th>\n",
       "      <th></th>\n",
       "      <th></th>\n",
       "      <th></th>\n",
       "      <th></th>\n",
       "      <th></th>\n",
       "      <th></th>\n",
       "      <th></th>\n",
       "      <th></th>\n",
       "      <th></th>\n",
       "    </tr>\n",
       "  </thead>\n",
       "  <tbody>\n",
       "    <tr>\n",
       "      <th>2000-01-03</th>\n",
       "      <td>4.075000</td>\n",
       "      <td>4.478125</td>\n",
       "      <td>3.952344</td>\n",
       "      <td>4.468750</td>\n",
       "      <td>322352000</td>\n",
       "      <td>2000</td>\n",
       "      <td>1</td>\n",
       "      <td>3</td>\n",
       "      <td>1</td>\n",
       "    </tr>\n",
       "    <tr>\n",
       "      <th>2000-01-04</th>\n",
       "      <td>4.268750</td>\n",
       "      <td>4.575000</td>\n",
       "      <td>4.087500</td>\n",
       "      <td>4.096875</td>\n",
       "      <td>349748000</td>\n",
       "      <td>2000</td>\n",
       "      <td>1</td>\n",
       "      <td>4</td>\n",
       "      <td>1</td>\n",
       "    </tr>\n",
       "    <tr>\n",
       "      <th>2000-01-05</th>\n",
       "      <td>3.525000</td>\n",
       "      <td>3.756250</td>\n",
       "      <td>3.400000</td>\n",
       "      <td>3.487500</td>\n",
       "      <td>769148000</td>\n",
       "      <td>2000</td>\n",
       "      <td>1</td>\n",
       "      <td>5</td>\n",
       "      <td>1</td>\n",
       "    </tr>\n",
       "    <tr>\n",
       "      <th>2000-01-06</th>\n",
       "      <td>3.565625</td>\n",
       "      <td>3.634375</td>\n",
       "      <td>3.200000</td>\n",
       "      <td>3.278125</td>\n",
       "      <td>375040000</td>\n",
       "      <td>2000</td>\n",
       "      <td>1</td>\n",
       "      <td>6</td>\n",
       "      <td>1</td>\n",
       "    </tr>\n",
       "    <tr>\n",
       "      <th>2000-01-07</th>\n",
       "      <td>3.350000</td>\n",
       "      <td>3.525000</td>\n",
       "      <td>3.309375</td>\n",
       "      <td>3.478125</td>\n",
       "      <td>210108000</td>\n",
       "      <td>2000</td>\n",
       "      <td>1</td>\n",
       "      <td>7</td>\n",
       "      <td>1</td>\n",
       "    </tr>\n",
       "  </tbody>\n",
       "</table>\n",
       "</div>"
      ],
      "text/plain": [
       "                Open      High       Low     Close     Volume  Year  Month  \\\n",
       "Date                                                                         \n",
       "2000-01-03  4.075000  4.478125  3.952344  4.468750  322352000  2000      1   \n",
       "2000-01-04  4.268750  4.575000  4.087500  4.096875  349748000  2000      1   \n",
       "2000-01-05  3.525000  3.756250  3.400000  3.487500  769148000  2000      1   \n",
       "2000-01-06  3.565625  3.634375  3.200000  3.278125  375040000  2000      1   \n",
       "2000-01-07  3.350000  3.525000  3.309375  3.478125  210108000  2000      1   \n",
       "\n",
       "            Day  Season  \n",
       "Date                     \n",
       "2000-01-03    3       1  \n",
       "2000-01-04    4       1  \n",
       "2000-01-05    5       1  \n",
       "2000-01-06    6       1  \n",
       "2000-01-07    7       1  "
      ]
     },
     "execution_count": 15,
     "metadata": {},
     "output_type": "execute_result"
    }
   ],
   "source": [
    "data.head()"
   ]
  },
  {
   "cell_type": "code",
   "execution_count": 16,
   "id": "3739e51f-504b-40f6-a1c5-abc4bc798db5",
   "metadata": {},
   "outputs": [
    {
     "data": {
      "text/plain": [
       "Open      0.999783\n",
       "High      0.999898\n",
       "Low       0.999903\n",
       "Close     1.000000\n",
       "Volume    0.301610\n",
       "Year      0.828067\n",
       "Month     0.036163\n",
       "Day       0.000000\n",
       "Season    0.027937\n",
       "Name: Close, dtype: float64"
      ]
     },
     "execution_count": 16,
     "metadata": {},
     "output_type": "execute_result"
    }
   ],
   "source": [
    "normalized_corr"
   ]
  },
  {
   "cell_type": "code",
   "execution_count": 17,
   "id": "055d2080-c829-4e9d-81cb-e74d92a6a2eb",
   "metadata": {},
   "outputs": [],
   "source": [
    "# Select top 5 features correlated with the target\n",
    "n = 5\n",
    "top_features = normalized_corr.sort_values(ascending=False).index[1:n+1]\n",
    "top_features = list(top_features)\n"
   ]
  },
  {
   "cell_type": "code",
   "execution_count": 18,
   "id": "b6ad79f0-a761-4a63-a93f-ecf22351fc3a",
   "metadata": {},
   "outputs": [
    {
     "data": {
      "text/plain": [
       "['Low', 'High', 'Open', 'Year', 'Volume']"
      ]
     },
     "execution_count": 18,
     "metadata": {},
     "output_type": "execute_result"
    }
   ],
   "source": [
    "top_features"
   ]
  },
  {
   "cell_type": "code",
   "execution_count": 19,
   "id": "d33afe5c-3e21-40ab-b949-9cd0122870d1",
   "metadata": {},
   "outputs": [],
   "source": [
    "top_features.append('Close')"
   ]
  },
  {
   "cell_type": "code",
   "execution_count": 20,
   "id": "12e94263-cfa8-4782-a2b6-3fe6e30155af",
   "metadata": {},
   "outputs": [
    {
     "data": {
      "text/plain": [
       "['Low', 'High', 'Open', 'Year', 'Volume', 'Close']"
      ]
     },
     "execution_count": 20,
     "metadata": {},
     "output_type": "execute_result"
    }
   ],
   "source": [
    "top_features"
   ]
  },
  {
   "cell_type": "code",
   "execution_count": 21,
   "id": "5a9e483c-1017-4aa6-b197-0cbb6073c7c8",
   "metadata": {},
   "outputs": [],
   "source": [
    "#Function to create sequences for RNN model\n",
    "def create_sequences_optimized(data, seq_length, target_idx):\n",
    "    # Convert the DataFrame to a NumPy array of type float32\n",
    "    data_values = data.values.astype('float32')\n",
    "    \n",
    "    # Calculate the number of samples based on the sequence length\n",
    "    num_samples = len(data) - seq_length\n",
    "    \n",
    "    # Get the number of features from the data\n",
    "    num_features = data.shape[1]\n",
    "    \n",
    "    # Initialize the xs array to hold the input sequences\n",
    "    xs = np.empty((num_samples, seq_length, num_features), dtype='float32')\n",
    "    \n",
    "    # Initialize the ys array to hold the target values\n",
    "    ys = np.empty(num_samples, dtype='float32')\n",
    "    \n",
    "    # Loop through each sample to create the sequences\n",
    "    for i in range(num_samples):\n",
    "        # Get the sequence of data for the current sample\n",
    "        xs[i] = data_values[i:i + seq_length]\n",
    "        \n",
    "        # Get the target value for the current sample\n",
    "        ys[i] = data_values[i + seq_length, target_idx]\n",
    "    \n",
    "    # Return the sequences and the corresponding target values\n",
    "    return xs, ys\n"
   ]
  },
  {
   "cell_type": "code",
   "execution_count": 22,
   "id": "d19febd5-a7c1-48bb-a243-a72b26c10745",
   "metadata": {},
   "outputs": [],
   "source": [
    "# Prepare the data\n",
    "data = data[top_features].copy()\n",
    "scalers = {}\n",
    "for feature in top_features:\n",
    "    scaler = MinMaxScaler(feature_range=(0, 1))\n",
    "    data[feature] = scaler.fit_transform(data[[feature]])\n",
    "    scalers[feature] = scaler"
   ]
  },
  {
   "cell_type": "code",
   "execution_count": 23,
   "id": "e2b8393a-6382-464c-bfdb-d415f93c7a29",
   "metadata": {},
   "outputs": [],
   "source": [
    "# Parameters for the LSTM model\n",
    "#pass in values for sequence and batch_size\n",
    "sequence =10 \n",
    "target_column = 'Close'"
   ]
  },
  {
   "cell_type": "code",
   "execution_count": 24,
   "id": "1f1d7401-2ecd-4386-9ae9-3a4eb23739af",
   "metadata": {},
   "outputs": [],
   "source": [
    "#code below creates sequences for the RNN model\n",
    "target_idx = top_features.index(target_column)\n",
    "seq_length = sequence\n",
    "x, y = create_sequences_optimized(data, seq_length, target_idx)"
   ]
  },
  {
   "cell_type": "code",
   "execution_count": 25,
   "id": "62f99bcc-1cc7-472f-8e6a-b25d772ec38b",
   "metadata": {},
   "outputs": [],
   "source": [
    "from sklearn.model_selection import train_test_split"
   ]
  },
  {
   "cell_type": "code",
   "execution_count": 26,
   "id": "49631f77-241c-431f-b52e-5e75bec1a19f",
   "metadata": {},
   "outputs": [],
   "source": [
    "#Split the data using train_test_split \n",
    "x_train, x_test, y_train, y_test = train_test_split(x, y, test_size=0.3, random_state=42, shuffle=False)\n"
   ]
  },
  {
   "cell_type": "code",
   "execution_count": 27,
   "id": "45f0064e-2c55-42f1-ab0c-8b5e1ccbc098",
   "metadata": {},
   "outputs": [],
   "source": [
    "# create fxn for r2 score\n",
    "def r2_score(y_true,y_pred):\n",
    "  ss_res = K.sum(K.square(y_true - y_pred))\n",
    "  ss_tot = K.sum(K.square(y_true - K.mean(y_true)))\n",
    "  return 1-ss_res/(ss_tot+K.epsilon())\n"
   ]
  },
  {
   "cell_type": "code",
   "execution_count": 28,
   "id": "76379e05-caa5-47cf-9b12-9325efaa4e40",
   "metadata": {},
   "outputs": [],
   "source": [
    "# Define the model\n",
    "# 6 in the input shape because there are 6 columns or features\n",
    "model = Sequential()\n",
    "model.add(LSTM(100, input_shape=(seq_length, 6), return_sequences=True))\n",
    "model.add(Dropout(0.3))\n",
    "model.add(LSTM(64))\n",
    "model.add(Dense(1, activation='relu'))"
   ]
  },
  {
   "cell_type": "code",
   "execution_count": 29,
   "id": "161198dc-5d6e-452a-a89d-ff960cb4db03",
   "metadata": {},
   "outputs": [],
   "source": [
    "# Compile the model\n",
    "model.compile(optimizer='adam', loss= 'mse', metrics= ['mse','r2_score'])\n"
   ]
  },
  {
   "cell_type": "code",
   "execution_count": 30,
   "id": "a497e61c-5440-4b9e-83ae-02083cd0ff78",
   "metadata": {},
   "outputs": [],
   "source": [
    "# Setup ModelCheckpoint callback to save the entire model\n",
    "checkpoint= ModelCheckpoint ('model.keras', save_best_only= True, save_weights_only = False, verbose=1)"
   ]
  },
  {
   "cell_type": "code",
   "execution_count": 31,
   "id": "25f0735b-3b8d-451e-bff2-aabbb95c0d82",
   "metadata": {},
   "outputs": [
    {
     "name": "stdout",
     "output_type": "stream",
     "text": [
      "Epoch 1/30\n",
      "\u001b[1m130/133\u001b[0m \u001b[32m━━━━━━━━━━━━━━━━━━━\u001b[0m\u001b[37m━\u001b[0m \u001b[1m0s\u001b[0m 10ms/step - loss: 3.7027e-04 - mse: 3.7027e-04 - r2_score: 0.8438\n",
      "Epoch 1: val_loss improved from inf to 0.00142, saving model to model.keras\n",
      "\u001b[1m133/133\u001b[0m \u001b[32m━━━━━━━━━━━━━━━━━━━━\u001b[0m\u001b[37m\u001b[0m \u001b[1m7s\u001b[0m 18ms/step - loss: 3.6374e-04 - mse: 3.6374e-04 - r2_score: 0.8465 - val_loss: 0.0014 - val_mse: 0.0014 - val_r2_score: 0.9703\n",
      "Epoch 2/30\n",
      "\u001b[1m133/133\u001b[0m \u001b[32m━━━━━━━━━━━━━━━━━━━━\u001b[0m\u001b[37m\u001b[0m \u001b[1m0s\u001b[0m 27ms/step - loss: 2.8502e-05 - mse: 2.8502e-05 - r2_score: 0.9881\n",
      "Epoch 2: val_loss improved from 0.00142 to 0.00116, saving model to model.keras\n",
      "\u001b[1m133/133\u001b[0m \u001b[32m━━━━━━━━━━━━━━━━━━━━\u001b[0m\u001b[37m\u001b[0m \u001b[1m5s\u001b[0m 34ms/step - loss: 2.8477e-05 - mse: 2.8477e-05 - r2_score: 0.9881 - val_loss: 0.0012 - val_mse: 0.0012 - val_r2_score: 0.9759\n",
      "Epoch 3/30\n",
      "\u001b[1m131/133\u001b[0m \u001b[32m━━━━━━━━━━━━━━━━━━━\u001b[0m\u001b[37m━\u001b[0m \u001b[1m0s\u001b[0m 22ms/step - loss: 3.2246e-05 - mse: 3.2246e-05 - r2_score: 0.9865\n",
      "Epoch 3: val_loss did not improve from 0.00116\n",
      "\u001b[1m133/133\u001b[0m \u001b[32m━━━━━━━━━━━━━━━━━━━━\u001b[0m\u001b[37m\u001b[0m \u001b[1m4s\u001b[0m 28ms/step - loss: 3.2074e-05 - mse: 3.2074e-05 - r2_score: 0.9866 - val_loss: 0.0055 - val_mse: 0.0055 - val_r2_score: 0.8845\n",
      "Epoch 4/30\n",
      "\u001b[1m133/133\u001b[0m \u001b[32m━━━━━━━━━━━━━━━━━━━━\u001b[0m\u001b[37m\u001b[0m \u001b[1m0s\u001b[0m 20ms/step - loss: 2.9519e-05 - mse: 2.9519e-05 - r2_score: 0.9876\n",
      "Epoch 4: val_loss did not improve from 0.00116\n",
      "\u001b[1m133/133\u001b[0m \u001b[32m━━━━━━━━━━━━━━━━━━━━\u001b[0m\u001b[37m\u001b[0m \u001b[1m3s\u001b[0m 25ms/step - loss: 2.9454e-05 - mse: 2.9454e-05 - r2_score: 0.9876 - val_loss: 0.0036 - val_mse: 0.0036 - val_r2_score: 0.9240\n",
      "Epoch 5/30\n",
      "\u001b[1m132/133\u001b[0m \u001b[32m━━━━━━━━━━━━━━━━━━━\u001b[0m\u001b[37m━\u001b[0m \u001b[1m0s\u001b[0m 27ms/step - loss: 2.1434e-05 - mse: 2.1434e-05 - r2_score: 0.9910\n",
      "Epoch 5: val_loss did not improve from 0.00116\n",
      "\u001b[1m133/133\u001b[0m \u001b[32m━━━━━━━━━━━━━━━━━━━━\u001b[0m\u001b[37m\u001b[0m \u001b[1m5s\u001b[0m 34ms/step - loss: 2.1369e-05 - mse: 2.1369e-05 - r2_score: 0.9910 - val_loss: 0.0040 - val_mse: 0.0040 - val_r2_score: 0.9166\n",
      "Epoch 6/30\n",
      "\u001b[1m133/133\u001b[0m \u001b[32m━━━━━━━━━━━━━━━━━━━━\u001b[0m\u001b[37m\u001b[0m \u001b[1m0s\u001b[0m 27ms/step - loss: 1.8262e-05 - mse: 1.8262e-05 - r2_score: 0.9923\n",
      "Epoch 6: val_loss did not improve from 0.00116\n",
      "\u001b[1m133/133\u001b[0m \u001b[32m━━━━━━━━━━━━━━━━━━━━\u001b[0m\u001b[37m\u001b[0m \u001b[1m4s\u001b[0m 33ms/step - loss: 1.8252e-05 - mse: 1.8252e-05 - r2_score: 0.9923 - val_loss: 0.0034 - val_mse: 0.0034 - val_r2_score: 0.9291\n",
      "Epoch 7/30\n",
      "\u001b[1m132/133\u001b[0m \u001b[32m━━━━━━━━━━━━━━━━━━━\u001b[0m\u001b[37m━\u001b[0m \u001b[1m0s\u001b[0m 22ms/step - loss: 1.3806e-05 - mse: 1.3806e-05 - r2_score: 0.9942\n",
      "Epoch 7: val_loss did not improve from 0.00116\n",
      "\u001b[1m133/133\u001b[0m \u001b[32m━━━━━━━━━━━━━━━━━━━━\u001b[0m\u001b[37m\u001b[0m \u001b[1m4s\u001b[0m 27ms/step - loss: 1.3806e-05 - mse: 1.3806e-05 - r2_score: 0.9942 - val_loss: 0.0072 - val_mse: 0.0072 - val_r2_score: 0.8509\n",
      "Epoch 8/30\n",
      "\u001b[1m131/133\u001b[0m \u001b[32m━━━━━━━━━━━━━━━━━━━\u001b[0m\u001b[37m━\u001b[0m \u001b[1m0s\u001b[0m 20ms/step - loss: 3.8406e-05 - mse: 3.8406e-05 - r2_score: 0.9840\n",
      "Epoch 8: val_loss did not improve from 0.00116\n",
      "\u001b[1m133/133\u001b[0m \u001b[32m━━━━━━━━━━━━━━━━━━━━\u001b[0m\u001b[37m\u001b[0m \u001b[1m3s\u001b[0m 25ms/step - loss: 3.8015e-05 - mse: 3.8015e-05 - r2_score: 0.9841 - val_loss: 0.0024 - val_mse: 0.0024 - val_r2_score: 0.9495\n",
      "Epoch 9/30\n",
      "\u001b[1m133/133\u001b[0m \u001b[32m━━━━━━━━━━━━━━━━━━━━\u001b[0m\u001b[37m\u001b[0m \u001b[1m0s\u001b[0m 28ms/step - loss: 1.8797e-05 - mse: 1.8797e-05 - r2_score: 0.9921\n",
      "Epoch 9: val_loss did not improve from 0.00116\n",
      "\u001b[1m133/133\u001b[0m \u001b[32m━━━━━━━━━━━━━━━━━━━━\u001b[0m\u001b[37m\u001b[0m \u001b[1m5s\u001b[0m 34ms/step - loss: 1.8762e-05 - mse: 1.8762e-05 - r2_score: 0.9922 - val_loss: 0.0033 - val_mse: 0.0033 - val_r2_score: 0.9306\n",
      "Epoch 10/30\n",
      "\u001b[1m131/133\u001b[0m \u001b[32m━━━━━━━━━━━━━━━━━━━\u001b[0m\u001b[37m━\u001b[0m \u001b[1m0s\u001b[0m 28ms/step - loss: 1.0908e-05 - mse: 1.0908e-05 - r2_score: 0.9954\n",
      "Epoch 10: val_loss did not improve from 0.00116\n",
      "\u001b[1m133/133\u001b[0m \u001b[32m━━━━━━━━━━━━━━━━━━━━\u001b[0m\u001b[37m\u001b[0m \u001b[1m5s\u001b[0m 35ms/step - loss: 1.0916e-05 - mse: 1.0916e-05 - r2_score: 0.9954 - val_loss: 0.0035 - val_mse: 0.0035 - val_r2_score: 0.9270\n",
      "Epoch 11/30\n",
      "\u001b[1m131/133\u001b[0m \u001b[32m━━━━━━━━━━━━━━━━━━━\u001b[0m\u001b[37m━\u001b[0m \u001b[1m0s\u001b[0m 21ms/step - loss: 1.1901e-05 - mse: 1.1901e-05 - r2_score: 0.9950\n",
      "Epoch 11: val_loss did not improve from 0.00116\n",
      "\u001b[1m133/133\u001b[0m \u001b[32m━━━━━━━━━━━━━━━━━━━━\u001b[0m\u001b[37m\u001b[0m \u001b[1m3s\u001b[0m 26ms/step - loss: 1.1910e-05 - mse: 1.1910e-05 - r2_score: 0.9950 - val_loss: 0.0024 - val_mse: 0.0024 - val_r2_score: 0.9502\n",
      "Epoch 12/30\n",
      "\u001b[1m132/133\u001b[0m \u001b[32m━━━━━━━━━━━━━━━━━━━\u001b[0m\u001b[37m━\u001b[0m \u001b[1m0s\u001b[0m 20ms/step - loss: 1.2697e-05 - mse: 1.2697e-05 - r2_score: 0.9947\n",
      "Epoch 12: val_loss did not improve from 0.00116\n",
      "\u001b[1m133/133\u001b[0m \u001b[32m━━━━━━━━━━━━━━━━━━━━\u001b[0m\u001b[37m\u001b[0m \u001b[1m4s\u001b[0m 26ms/step - loss: 1.2690e-05 - mse: 1.2690e-05 - r2_score: 0.9947 - val_loss: 0.0027 - val_mse: 0.0027 - val_r2_score: 0.9430\n",
      "Epoch 13/30\n",
      "\u001b[1m132/133\u001b[0m \u001b[32m━━━━━━━━━━━━━━━━━━━\u001b[0m\u001b[37m━\u001b[0m \u001b[1m0s\u001b[0m 27ms/step - loss: 1.1930e-05 - mse: 1.1930e-05 - r2_score: 0.9950\n",
      "Epoch 13: val_loss did not improve from 0.00116\n",
      "\u001b[1m133/133\u001b[0m \u001b[32m━━━━━━━━━━━━━━━━━━━━\u001b[0m\u001b[37m\u001b[0m \u001b[1m4s\u001b[0m 33ms/step - loss: 1.1947e-05 - mse: 1.1947e-05 - r2_score: 0.9950 - val_loss: 0.0041 - val_mse: 0.0041 - val_r2_score: 0.9150\n",
      "Epoch 14/30\n",
      "\u001b[1m132/133\u001b[0m \u001b[32m━━━━━━━━━━━━━━━━━━━\u001b[0m\u001b[37m━\u001b[0m \u001b[1m0s\u001b[0m 27ms/step - loss: 2.2221e-05 - mse: 2.2221e-05 - r2_score: 0.9907\n",
      "Epoch 14: val_loss did not improve from 0.00116\n",
      "\u001b[1m133/133\u001b[0m \u001b[32m━━━━━━━━━━━━━━━━━━━━\u001b[0m\u001b[37m\u001b[0m \u001b[1m4s\u001b[0m 33ms/step - loss: 2.2115e-05 - mse: 2.2115e-05 - r2_score: 0.9907 - val_loss: 0.0012 - val_mse: 0.0012 - val_r2_score: 0.9742\n",
      "Epoch 15/30\n",
      "\u001b[1m131/133\u001b[0m \u001b[32m━━━━━━━━━━━━━━━━━━━\u001b[0m\u001b[37m━\u001b[0m \u001b[1m0s\u001b[0m 18ms/step - loss: 1.1141e-05 - mse: 1.1141e-05 - r2_score: 0.9953\n",
      "Epoch 15: val_loss did not improve from 0.00116\n",
      "\u001b[1m133/133\u001b[0m \u001b[32m━━━━━━━━━━━━━━━━━━━━\u001b[0m\u001b[37m\u001b[0m \u001b[1m4s\u001b[0m 22ms/step - loss: 1.1129e-05 - mse: 1.1129e-05 - r2_score: 0.9953 - val_loss: 0.0032 - val_mse: 0.0032 - val_r2_score: 0.9331\n",
      "Epoch 16/30\n",
      "\u001b[1m131/133\u001b[0m \u001b[32m━━━━━━━━━━━━━━━━━━━\u001b[0m\u001b[37m━\u001b[0m \u001b[1m0s\u001b[0m 20ms/step - loss: 1.5948e-05 - mse: 1.5948e-05 - r2_score: 0.9933\n",
      "Epoch 16: val_loss did not improve from 0.00116\n",
      "\u001b[1m133/133\u001b[0m \u001b[32m━━━━━━━━━━━━━━━━━━━━\u001b[0m\u001b[37m\u001b[0m \u001b[1m4s\u001b[0m 27ms/step - loss: 1.5846e-05 - mse: 1.5846e-05 - r2_score: 0.9933 - val_loss: 0.0019 - val_mse: 0.0019 - val_r2_score: 0.9613\n",
      "Epoch 17/30\n",
      "\u001b[1m131/133\u001b[0m \u001b[32m━━━━━━━━━━━━━━━━━━━\u001b[0m\u001b[37m━\u001b[0m \u001b[1m0s\u001b[0m 26ms/step - loss: 8.5530e-06 - mse: 8.5530e-06 - r2_score: 0.9964\n",
      "Epoch 17: val_loss did not improve from 0.00116\n",
      "\u001b[1m133/133\u001b[0m \u001b[32m━━━━━━━━━━━━━━━━━━━━\u001b[0m\u001b[37m\u001b[0m \u001b[1m4s\u001b[0m 32ms/step - loss: 8.5634e-06 - mse: 8.5634e-06 - r2_score: 0.9964 - val_loss: 0.0035 - val_mse: 0.0035 - val_r2_score: 0.9262\n",
      "Epoch 18/30\n",
      "\u001b[1m132/133\u001b[0m \u001b[32m━━━━━━━━━━━━━━━━━━━\u001b[0m\u001b[37m━\u001b[0m \u001b[1m0s\u001b[0m 26ms/step - loss: 1.1102e-05 - mse: 1.1102e-05 - r2_score: 0.9953\n",
      "Epoch 18: val_loss did not improve from 0.00116\n",
      "\u001b[1m133/133\u001b[0m \u001b[32m━━━━━━━━━━━━━━━━━━━━\u001b[0m\u001b[37m\u001b[0m \u001b[1m4s\u001b[0m 32ms/step - loss: 1.1088e-05 - mse: 1.1088e-05 - r2_score: 0.9953 - val_loss: 0.0016 - val_mse: 0.0016 - val_r2_score: 0.9660\n",
      "Epoch 19/30\n",
      "\u001b[1m133/133\u001b[0m \u001b[32m━━━━━━━━━━━━━━━━━━━━\u001b[0m\u001b[37m\u001b[0m \u001b[1m0s\u001b[0m 21ms/step - loss: 1.2396e-05 - mse: 1.2396e-05 - r2_score: 0.9948\n",
      "Epoch 19: val_loss improved from 0.00116 to 0.00097, saving model to model.keras\n",
      "\u001b[1m133/133\u001b[0m \u001b[32m━━━━━━━━━━━━━━━━━━━━\u001b[0m\u001b[37m\u001b[0m \u001b[1m3s\u001b[0m 25ms/step - loss: 1.2387e-05 - mse: 1.2387e-05 - r2_score: 0.9948 - val_loss: 9.7069e-04 - val_mse: 9.7069e-04 - val_r2_score: 0.9798\n",
      "Epoch 20/30\n",
      "\u001b[1m132/133\u001b[0m \u001b[32m━━━━━━━━━━━━━━━━━━━\u001b[0m\u001b[37m━\u001b[0m \u001b[1m0s\u001b[0m 20ms/step - loss: 1.2055e-05 - mse: 1.2055e-05 - r2_score: 0.9950\n",
      "Epoch 20: val_loss did not improve from 0.00097\n",
      "\u001b[1m133/133\u001b[0m \u001b[32m━━━━━━━━━━━━━━━━━━━━\u001b[0m\u001b[37m\u001b[0m \u001b[1m4s\u001b[0m 26ms/step - loss: 1.2027e-05 - mse: 1.2027e-05 - r2_score: 0.9950 - val_loss: 0.0035 - val_mse: 0.0035 - val_r2_score: 0.9266\n",
      "Epoch 21/30\n",
      "\u001b[1m131/133\u001b[0m \u001b[32m━━━━━━━━━━━━━━━━━━━\u001b[0m\u001b[37m━\u001b[0m \u001b[1m0s\u001b[0m 23ms/step - loss: 1.5649e-05 - mse: 1.5649e-05 - r2_score: 0.9934\n",
      "Epoch 21: val_loss did not improve from 0.00097\n",
      "\u001b[1m133/133\u001b[0m \u001b[32m━━━━━━━━━━━━━━━━━━━━\u001b[0m\u001b[37m\u001b[0m \u001b[1m4s\u001b[0m 28ms/step - loss: 1.5576e-05 - mse: 1.5576e-05 - r2_score: 0.9935 - val_loss: 0.0034 - val_mse: 0.0034 - val_r2_score: 0.9285\n",
      "Epoch 22/30\n",
      "\u001b[1m132/133\u001b[0m \u001b[32m━━━━━━━━━━━━━━━━━━━\u001b[0m\u001b[37m━\u001b[0m \u001b[1m0s\u001b[0m 22ms/step - loss: 1.3092e-05 - mse: 1.3092e-05 - r2_score: 0.9945\n",
      "Epoch 22: val_loss did not improve from 0.00097\n",
      "\u001b[1m133/133\u001b[0m \u001b[32m━━━━━━━━━━━━━━━━━━━━\u001b[0m\u001b[37m\u001b[0m \u001b[1m4s\u001b[0m 28ms/step - loss: 1.3045e-05 - mse: 1.3045e-05 - r2_score: 0.9945 - val_loss: 0.0015 - val_mse: 0.0015 - val_r2_score: 0.9688\n",
      "Epoch 23/30\n",
      "\u001b[1m131/133\u001b[0m \u001b[32m━━━━━━━━━━━━━━━━━━━\u001b[0m\u001b[37m━\u001b[0m \u001b[1m0s\u001b[0m 21ms/step - loss: 1.1993e-05 - mse: 1.1993e-05 - r2_score: 0.9950\n",
      "Epoch 23: val_loss did not improve from 0.00097\n",
      "\u001b[1m133/133\u001b[0m \u001b[32m━━━━━━━━━━━━━━━━━━━━\u001b[0m\u001b[37m\u001b[0m \u001b[1m3s\u001b[0m 25ms/step - loss: 1.1966e-05 - mse: 1.1966e-05 - r2_score: 0.9950 - val_loss: 0.0018 - val_mse: 0.0018 - val_r2_score: 0.9617\n",
      "Epoch 24/30\n",
      "\u001b[1m133/133\u001b[0m \u001b[32m━━━━━━━━━━━━━━━━━━━━\u001b[0m\u001b[37m\u001b[0m \u001b[1m0s\u001b[0m 17ms/step - loss: 8.8830e-06 - mse: 8.8830e-06 - r2_score: 0.9963\n",
      "Epoch 24: val_loss did not improve from 0.00097\n",
      "\u001b[1m133/133\u001b[0m \u001b[32m━━━━━━━━━━━━━━━━━━━━\u001b[0m\u001b[37m\u001b[0m \u001b[1m3s\u001b[0m 22ms/step - loss: 8.8767e-06 - mse: 8.8767e-06 - r2_score: 0.9963 - val_loss: 0.0027 - val_mse: 0.0027 - val_r2_score: 0.9438\n",
      "Epoch 25/30\n",
      "\u001b[1m132/133\u001b[0m \u001b[32m━━━━━━━━━━━━━━━━━━━\u001b[0m\u001b[37m━\u001b[0m \u001b[1m0s\u001b[0m 19ms/step - loss: 8.0573e-06 - mse: 8.0573e-06 - r2_score: 0.9966\n",
      "Epoch 25: val_loss did not improve from 0.00097\n",
      "\u001b[1m133/133\u001b[0m \u001b[32m━━━━━━━━━━━━━━━━━━━━\u001b[0m\u001b[37m\u001b[0m \u001b[1m3s\u001b[0m 25ms/step - loss: 8.0616e-06 - mse: 8.0616e-06 - r2_score: 0.9966 - val_loss: 0.0022 - val_mse: 0.0022 - val_r2_score: 0.9533\n",
      "Epoch 26/30\n",
      "\u001b[1m132/133\u001b[0m \u001b[32m━━━━━━━━━━━━━━━━━━━\u001b[0m\u001b[37m━\u001b[0m \u001b[1m0s\u001b[0m 20ms/step - loss: 1.1463e-05 - mse: 1.1463e-05 - r2_score: 0.9952\n",
      "Epoch 26: val_loss did not improve from 0.00097\n",
      "\u001b[1m133/133\u001b[0m \u001b[32m━━━━━━━━━━━━━━━━━━━━\u001b[0m\u001b[37m\u001b[0m \u001b[1m3s\u001b[0m 24ms/step - loss: 1.1435e-05 - mse: 1.1435e-05 - r2_score: 0.9952 - val_loss: 0.0033 - val_mse: 0.0033 - val_r2_score: 0.9306\n",
      "Epoch 27/30\n",
      "\u001b[1m131/133\u001b[0m \u001b[32m━━━━━━━━━━━━━━━━━━━\u001b[0m\u001b[37m━\u001b[0m \u001b[1m0s\u001b[0m 22ms/step - loss: 1.6456e-05 - mse: 1.6456e-05 - r2_score: 0.9931\n",
      "Epoch 27: val_loss did not improve from 0.00097\n",
      "\u001b[1m133/133\u001b[0m \u001b[32m━━━━━━━━━━━━━━━━━━━━\u001b[0m\u001b[37m\u001b[0m \u001b[1m4s\u001b[0m 27ms/step - loss: 1.6352e-05 - mse: 1.6352e-05 - r2_score: 0.9931 - val_loss: 0.0041 - val_mse: 0.0041 - val_r2_score: 0.9154\n",
      "Epoch 28/30\n",
      "\u001b[1m133/133\u001b[0m \u001b[32m━━━━━━━━━━━━━━━━━━━━\u001b[0m\u001b[37m\u001b[0m \u001b[1m0s\u001b[0m 20ms/step - loss: 1.0204e-05 - mse: 1.0204e-05 - r2_score: 0.9957\n",
      "Epoch 28: val_loss did not improve from 0.00097\n",
      "\u001b[1m133/133\u001b[0m \u001b[32m━━━━━━━━━━━━━━━━━━━━\u001b[0m\u001b[37m\u001b[0m \u001b[1m3s\u001b[0m 25ms/step - loss: 1.0195e-05 - mse: 1.0195e-05 - r2_score: 0.9957 - val_loss: 0.0039 - val_mse: 0.0039 - val_r2_score: 0.9186\n",
      "Epoch 29/30\n",
      "\u001b[1m132/133\u001b[0m \u001b[32m━━━━━━━━━━━━━━━━━━━\u001b[0m\u001b[37m━\u001b[0m \u001b[1m0s\u001b[0m 18ms/step - loss: 1.3151e-05 - mse: 1.3151e-05 - r2_score: 0.9945\n",
      "Epoch 29: val_loss did not improve from 0.00097\n",
      "\u001b[1m133/133\u001b[0m \u001b[32m━━━━━━━━━━━━━━━━━━━━\u001b[0m\u001b[37m\u001b[0m \u001b[1m3s\u001b[0m 24ms/step - loss: 1.3101e-05 - mse: 1.3101e-05 - r2_score: 0.9945 - val_loss: 0.0026 - val_mse: 0.0026 - val_r2_score: 0.9448\n",
      "Epoch 30/30\n",
      "\u001b[1m133/133\u001b[0m \u001b[32m━━━━━━━━━━━━━━━━━━━━\u001b[0m\u001b[37m\u001b[0m \u001b[1m0s\u001b[0m 20ms/step - loss: 9.1619e-06 - mse: 9.1619e-06 - r2_score: 0.9962\n",
      "Epoch 30: val_loss did not improve from 0.00097\n",
      "\u001b[1m133/133\u001b[0m \u001b[32m━━━━━━━━━━━━━━━━━━━━\u001b[0m\u001b[37m\u001b[0m \u001b[1m4s\u001b[0m 26ms/step - loss: 9.1544e-06 - mse: 9.1544e-06 - r2_score: 0.9962 - val_loss: 0.0037 - val_mse: 0.0037 - val_r2_score: 0.9221\n"
     ]
    }
   ],
   "source": [
    "# Train the model\n",
    "history = model.fit(x_train, y_train, epochs=30, batch_size=32, validation_data=(x_test, y_test), callbacks=[checkpoint])"
   ]
  },
  {
   "cell_type": "code",
   "execution_count": 32,
   "id": "fbf7640e-6c8c-41e6-88bc-9330579665da",
   "metadata": {},
   "outputs": [],
   "source": [
    "historydf = pd.DataFrame(history.history)"
   ]
  },
  {
   "cell_type": "code",
   "execution_count": 33,
   "id": "5350b82d-a901-4a53-8f9e-09c648621540",
   "metadata": {},
   "outputs": [
    {
     "data": {
      "text/html": [
       "<div>\n",
       "<style scoped>\n",
       "    .dataframe tbody tr th:only-of-type {\n",
       "        vertical-align: middle;\n",
       "    }\n",
       "\n",
       "    .dataframe tbody tr th {\n",
       "        vertical-align: top;\n",
       "    }\n",
       "\n",
       "    .dataframe thead th {\n",
       "        text-align: right;\n",
       "    }\n",
       "</style>\n",
       "<table border=\"1\" class=\"dataframe\">\n",
       "  <thead>\n",
       "    <tr style=\"text-align: right;\">\n",
       "      <th></th>\n",
       "      <th>loss</th>\n",
       "      <th>mse</th>\n",
       "      <th>r2_score</th>\n",
       "      <th>val_loss</th>\n",
       "      <th>val_mse</th>\n",
       "      <th>val_r2_score</th>\n",
       "    </tr>\n",
       "  </thead>\n",
       "  <tbody>\n",
       "    <tr>\n",
       "      <th>0</th>\n",
       "      <td>0.000151</td>\n",
       "      <td>0.000151</td>\n",
       "      <td>0.936110</td>\n",
       "      <td>0.001424</td>\n",
       "      <td>0.001424</td>\n",
       "      <td>0.970311</td>\n",
       "    </tr>\n",
       "    <tr>\n",
       "      <th>1</th>\n",
       "      <td>0.000025</td>\n",
       "      <td>0.000025</td>\n",
       "      <td>0.989362</td>\n",
       "      <td>0.001158</td>\n",
       "      <td>0.001158</td>\n",
       "      <td>0.975865</td>\n",
       "    </tr>\n",
       "    <tr>\n",
       "      <th>2</th>\n",
       "      <td>0.000025</td>\n",
       "      <td>0.000025</td>\n",
       "      <td>0.989612</td>\n",
       "      <td>0.005538</td>\n",
       "      <td>0.005538</td>\n",
       "      <td>0.884546</td>\n",
       "    </tr>\n",
       "    <tr>\n",
       "      <th>3</th>\n",
       "      <td>0.000021</td>\n",
       "      <td>0.000021</td>\n",
       "      <td>0.991207</td>\n",
       "      <td>0.003644</td>\n",
       "      <td>0.003644</td>\n",
       "      <td>0.924028</td>\n",
       "    </tr>\n",
       "    <tr>\n",
       "      <th>4</th>\n",
       "      <td>0.000017</td>\n",
       "      <td>0.000017</td>\n",
       "      <td>0.992785</td>\n",
       "      <td>0.004002</td>\n",
       "      <td>0.004002</td>\n",
       "      <td>0.916567</td>\n",
       "    </tr>\n",
       "  </tbody>\n",
       "</table>\n",
       "</div>"
      ],
      "text/plain": [
       "       loss       mse  r2_score  val_loss   val_mse  val_r2_score\n",
       "0  0.000151  0.000151  0.936110  0.001424  0.001424      0.970311\n",
       "1  0.000025  0.000025  0.989362  0.001158  0.001158      0.975865\n",
       "2  0.000025  0.000025  0.989612  0.005538  0.005538      0.884546\n",
       "3  0.000021  0.000021  0.991207  0.003644  0.003644      0.924028\n",
       "4  0.000017  0.000017  0.992785  0.004002  0.004002      0.916567"
      ]
     },
     "execution_count": 33,
     "metadata": {},
     "output_type": "execute_result"
    }
   ],
   "source": [
    "historydf.head()"
   ]
  },
  {
   "cell_type": "code",
   "execution_count": 34,
   "id": "08f7b548-b066-4606-89b8-717e966b3eee",
   "metadata": {},
   "outputs": [
    {
     "name": "stdout",
     "output_type": "stream",
     "text": [
      "\u001b[1m57/57\u001b[0m \u001b[32m━━━━━━━━━━━━━━━━━━━━\u001b[0m\u001b[37m\u001b[0m \u001b[1m1s\u001b[0m 14ms/step - loss: 0.0017 - mse: 0.0017 - r2_score: 0.9058     \n",
      "Test Loss (MSE): 0.0037\n",
      "Test MSE: 0.0037\n",
      "Test R²: 0.9221\n"
     ]
    }
   ],
   "source": [
    "\n",
    "# Evaluate the model\n",
    "test_loss, test_mse, test_r2 = model.evaluate(x_test, y_test)\n",
    "print(f'Test Loss (MSE): {test_loss:.4f}')\n",
    "print(f'Test MSE: {test_mse:.4f}')\n",
    "print(f'Test R²: {test_r2:.4f}')\n"
   ]
  },
  {
   "cell_type": "code",
   "execution_count": 35,
   "id": "b20bdaf0-e869-4d22-ad35-3e557039d2f0",
   "metadata": {},
   "outputs": [],
   "source": [
    "#Load the entire model\n",
    "model = load_model('model.keras')"
   ]
  },
  {
   "cell_type": "code",
   "execution_count": 36,
   "id": "3c15fad1-98fd-40ec-9408-747a0746ca21",
   "metadata": {},
   "outputs": [
    {
     "name": "stdout",
     "output_type": "stream",
     "text": [
      "\u001b[1m57/57\u001b[0m \u001b[32m━━━━━━━━━━━━━━━━━━━━\u001b[0m\u001b[37m\u001b[0m \u001b[1m2s\u001b[0m 29ms/step\n",
      "\u001b[1m133/133\u001b[0m \u001b[32m━━━━━━━━━━━━━━━━━━━━\u001b[0m\u001b[37m\u001b[0m \u001b[1m1s\u001b[0m 10ms/step\n"
     ]
    }
   ],
   "source": [
    "#To make predictions\n",
    "y_pred = model.predict(x_test)\n",
    "y_train_pred = model.predict(x_train)"
   ]
  },
  {
   "cell_type": "code",
   "execution_count": 37,
   "id": "c895fc32-33c7-4a23-8c69-c85982c43d93",
   "metadata": {},
   "outputs": [],
   "source": [
    "#code below to inverse transforms the predictions and actual values\n",
    "y_test_actual = scalers[target_column].inverse_transform(y_test.reshape(-1, 1)).flatten()\n",
    "y_pred_actual = scalers[target_column].inverse_transform(y_pred).flatten()\n",
    "y_train_actual = scalers[target_column].inverse_transform(y_train.reshape(-1, 1)).flatten()\n",
    "y_train_pred_actual = scalers[target_column].inverse_transform(y_train_pred).flatten()\n"
   ]
  },
  {
   "cell_type": "code",
   "execution_count": 38,
   "id": "68bcea8b-3f0b-43d4-9181-ae957f7dffa4",
   "metadata": {},
   "outputs": [],
   "source": [
    "#code below to calculates R2 scores for train and test sets\n",
    "from sklearn.metrics import r2_score\n",
    "r2_train = r2_score(y_train_actual, y_train_pred_actual)\n",
    "r2_test = r2_score(y_test_actual, y_pred_actual)"
   ]
  },
  {
   "cell_type": "code",
   "execution_count": 39,
   "id": "8077273b-884b-43bd-89e6-d32b44ca5e81",
   "metadata": {},
   "outputs": [
    {
     "data": {
      "text/plain": [
       "0.9965803523957171"
      ]
     },
     "execution_count": 39,
     "metadata": {},
     "output_type": "execute_result"
    }
   ],
   "source": [
    "r2_train"
   ]
  },
  {
   "cell_type": "code",
   "execution_count": 40,
   "id": "413d0f7e-ccb5-441e-96e0-242d9d2acf23",
   "metadata": {},
   "outputs": [
    {
     "data": {
      "text/plain": [
       "0.9797623766378079"
      ]
     },
     "execution_count": 40,
     "metadata": {},
     "output_type": "execute_result"
    }
   ],
   "source": [
    "r2_test"
   ]
  },
  {
   "cell_type": "code",
   "execution_count": 41,
   "id": "6585213b-fa95-47b7-8f3d-1c4a95c7bb93",
   "metadata": {},
   "outputs": [
    {
     "name": "stdout",
     "output_type": "stream",
     "text": [
      "Inverse Test Min: 35.95349884033203, Inversprovide an accurate code to improve on the model e Test Max: 186.57049560546875\n",
      "Inverse Pred Min: 38.146949768066406, Inverse Pred Max: 171.9779815673828\n",
      "R² Score For Train Data: 99.66%\n",
      "R² Score For Test Data: 97.98%\n"
     ]
    }
   ],
   "source": [
    "#code below to prints the results\n",
    "print(f'Inverse Test Min: {y_test_actual.min()}, Inversprovide an accurate code to improve on the model e Test Max: {y_test_actual.max()}')\n",
    "print(f'Inverse Pred Min: {y_pred_actual.min()}, Inverse Pred Max: {y_pred_actual.max()}')\n",
    "print(f'R² Score For Train Data: {round(r2_train * 100, 2)}%')\n",
    "print(f'R² Score For Test Data: {round(r2_test * 100, 2)}%')"
   ]
  },
  {
   "cell_type": "code",
   "execution_count": null,
   "id": "960cb22f-03af-42f4-9e7e-ef4ba58434d6",
   "metadata": {},
   "outputs": [],
   "source": []
  }
 ],
 "metadata": {
  "kernelspec": {
   "display_name": "Python 3 (ipykernel)",
   "language": "python",
   "name": "python3"
  },
  "language_info": {
   "codemirror_mode": {
    "name": "ipython",
    "version": 3
   },
   "file_extension": ".py",
   "mimetype": "text/x-python",
   "name": "python",
   "nbconvert_exporter": "python",
   "pygments_lexer": "ipython3",
   "version": "3.11.7"
  }
 },
 "nbformat": 4,
 "nbformat_minor": 5
}
